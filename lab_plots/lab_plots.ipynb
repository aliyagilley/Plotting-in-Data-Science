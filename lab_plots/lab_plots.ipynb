{
 "cells": [
  {
   "cell_type": "markdown",
   "source": [
    "# Welcome to Lab_Plots!\r\n",
    "\r\n",
    "You may not know this, but the salaries of the employees at the University of Illinois are publicly available! We have curated this data in a nice, structured dataset called `graybook.csv` for you to explore.  The goal of this lab is to work with real UIUC salary data to explore its properties, answer important questions, and to think about the implications of collecting and analyzing this data.  Throughout the lab, it is important to think about being a critical consumer of data who can not only use statistics and programming to analyze data but can also think about the \"why\" part of data science both in the classroom and in the world. Let’s get started!\r\n",
    "\r\n",
    "In this lab, you will:\r\n",
    "\r\n",
    "- Work with real UIUC salary data to explore some of the statistics that we talked about in class: mean, median, standard deviation, etc.\r\n",
    "- Practice creating plots to visualize quantitative data: boxplots and histograms.\r\n",
    "- See how data science can be used in the real world to think about important issues through individual reflection and discussions with your group."
   ],
   "metadata": {}
  },
  {
   "cell_type": "markdown",
   "source": [
    "## PRE-LAB SURVEY\n",
    "\n",
    "We are doing a pre and post lab survey this week! Please complete this survey BEFORE you start the lab to get +2 extra credit points! Who doesn't want extra credit?!  This will help us make the labs better and should take about 5 minutes :) Click the link below to access the survey.\n",
    "\n",
    "[https://forms.gle/ouMaFuucdJHXKVza7](https://forms.gle/ouMaFuucdJHXKVza7)"
   ],
   "metadata": {}
  },
  {
   "cell_type": "markdown",
   "source": [
    "## 000. Your Group\n",
    "\n",
    "Edit the next Python cell to add information about who you're working within your lab section:"
   ],
   "metadata": {}
  },
  {
   "cell_type": "code",
   "execution_count": null,
   "source": [
    "partner1_name = \"\"\r\n",
    "partner1_netid = \"\"\r\n",
    "partner1_major = \"\"\r\n",
    "\r\n",
    "partner2_name = \"\"\r\n",
    "partner2_netid = \"\"\r\n",
    "partner2_major = \"\"\r\n",
    "\r\n",
    "partner3_name = \"\"\r\n",
    "partner3_netid = \"\"\r\n",
    "partner3_major = \"\""
   ],
   "outputs": [],
   "metadata": {}
  },
  {
   "cell_type": "markdown",
   "source": [
    "## 00. Install MatPlotLib\r\n",
    "\r\n",
    "In this lab, we will be creating two types of simple visualizations: Histograms and Box Plots.  To do this, we need to make sure `matplotlib` is installed.\r\n",
    "\r\n",
    "Pull up your terminal and run the following code:\r\n",
    "\r\n",
    "MAC USERS: \r\n",
    "\r\n",
    "python3 -mpip install matplotlib\r\n",
    "\r\n",
    "\r\n",
    "WINDOWS USERS: \r\n",
    "\r\n",
    "py -m pip install matplotlib\r\n",
    "\r\n"
   ],
   "metadata": {}
  },
  {
   "cell_type": "markdown",
   "source": [
    "## 0. Import the Data\n",
    "\n",
    "In the same directory as this notebook, find the dataset called `graybook.csv` that is provided.  We will use the other dataset later on ;) You know what to do to import the libraries and read in the data! :)\n",
    "\n",
    "Look at the variable names, how many rows and columns there, and anything else you may notice!"
   ],
   "metadata": {}
  },
  {
   "cell_type": "code",
   "execution_count": 3,
   "source": [
    "#import the graybook.csv dataset below \r\n",
    "import pandas as pd\r\n",
    "df_graybook = pd.read_csv(\"graybook.csv\")"
   ],
   "outputs": [],
   "metadata": {
    "deletable": false,
    "nbgrader": {
     "cell_type": "code",
     "checksum": "40a9b55a4721908243d995f8d7f2fbb7",
     "grade": false,
     "grade_id": "cell-27971beecac131cc",
     "locked": false,
     "schema_version": 3,
     "solution": true,
     "task": false
    }
   }
  },
  {
   "cell_type": "markdown",
   "source": [
    "**❓ Individual Reflection and Group Discussion ❓**\n",
    "\n",
    "Thinking about the variables in the dataset, what are two questions that you’d like to use data science to answer (ex. What is the mean salary of my home department?).  Type them below and then share at least one of your questions with your group and why you want to find the answer to it."
   ],
   "metadata": {}
  },
  {
   "cell_type": "markdown",
   "source": [
    "Double Click this cell to edit it!\r\n",
    "\r\n",
    "Question 1: I'm going to go with the average salary of the Advertising department!\r\n",
    "\r\n",
    "Question 2: Hmmm...what is the total number of employees at UIUC?"
   ],
   "metadata": {}
  },
  {
   "cell_type": "markdown",
   "source": [
    "## 1. Exploratory Data Analysis (EDA)\r\n",
    "As we discussed in lecture, the first step of any data analysis is to get familiar with your dataset.  Think about what this data can tell you and what variables are included.  Data scientists always start with this step.\r\n",
    "\r\n",
    "\r\n",
    "Let’s do some overall exploratory data analysis to get some baseline data to compare to.  Before you do the calculations, guess what you think the average salary is at UIUC. Enter your answer below.  \r\n",
    "\r\n",
    "$100,000"
   ],
   "metadata": {}
  },
  {
   "cell_type": "markdown",
   "source": [
    "\r\n",
    "$100,000"
   ],
   "metadata": {}
  },
  {
   "cell_type": "markdown",
   "source": [
    "### Puzzle 1.1: Descriptive Statistics\n",
    "\n",
    "Next, using all of the data, find the following information:\n",
    "\n",
    "1. the number of employees at UIUC\n",
    "2. the mean salary\n",
    "3. the median salary\n",
    "4. the standard deviation"
   ],
   "metadata": {}
  },
  {
   "cell_type": "code",
   "execution_count": 23,
   "source": [
    "university_num_emp = len(df_graybook.index)\r\n",
    "university_num_emp\r\n",
    "\r\n"
   ],
   "outputs": [
    {
     "output_type": "execute_result",
     "data": {
      "text/plain": [
       "3555"
      ]
     },
     "metadata": {},
     "execution_count": 23
    }
   ],
   "metadata": {
    "deletable": false,
    "nbgrader": {
     "cell_type": "code",
     "checksum": "b1bea43f79c33b854e1f15dfe00b180b",
     "grade": false,
     "grade_id": "cell-419796a0b415e588",
     "locked": false,
     "schema_version": 3,
     "solution": true,
     "task": false
    }
   }
  },
  {
   "cell_type": "code",
   "execution_count": 15,
   "source": [
    "university_mean_sal = df_graybook[\"Salary\"].mean()\r\n",
    "university_mean_sal\r\n",
    "\r\n"
   ],
   "outputs": [
    {
     "output_type": "execute_result",
     "data": {
      "text/plain": [
       "101284.91668642394"
      ]
     },
     "metadata": {},
     "execution_count": 15
    }
   ],
   "metadata": {
    "deletable": false,
    "nbgrader": {
     "cell_type": "code",
     "checksum": "f86aac497feb3ecd4289626231b44964",
     "grade": false,
     "grade_id": "cell-4dbbeef1022a20e4",
     "locked": false,
     "schema_version": 3,
     "solution": true,
     "task": false
    }
   }
  },
  {
   "cell_type": "code",
   "execution_count": null,
   "source": [],
   "outputs": [],
   "metadata": {}
  },
  {
   "cell_type": "code",
   "execution_count": 19,
   "source": [
    "university_median_sal = df_graybook[\"Salary\"].median()\r\n",
    "\r\n",
    "university_median_sal\r\n",
    "\r\n"
   ],
   "outputs": [
    {
     "output_type": "execute_result",
     "data": {
      "text/plain": [
       "86995.0"
      ]
     },
     "metadata": {},
     "execution_count": 19
    }
   ],
   "metadata": {
    "deletable": false,
    "nbgrader": {
     "cell_type": "code",
     "checksum": "e8f355f508ffadd1f9b645c9686c73ea",
     "grade": false,
     "grade_id": "cell-727195c3fef2cf78",
     "locked": false,
     "schema_version": 3,
     "solution": true,
     "task": false
    }
   }
  },
  {
   "cell_type": "code",
   "execution_count": 20,
   "source": [
    "university_std_sal = df_graybook[\"Salary\"].std()\r\n",
    "university_std_sal\r\n",
    "\r\n"
   ],
   "outputs": [
    {
     "output_type": "execute_result",
     "data": {
      "text/plain": [
       "55129.29496464772"
      ]
     },
     "metadata": {},
     "execution_count": 20
    }
   ],
   "metadata": {
    "deletable": false,
    "nbgrader": {
     "cell_type": "code",
     "checksum": "3da9719c35e35c72a09a1068d100b0f1",
     "grade": false,
     "grade_id": "cell-35e651d14a628e50",
     "locked": false,
     "schema_version": 3,
     "solution": true,
     "task": false
    }
   }
  },
  {
   "cell_type": "code",
   "execution_count": 24,
   "source": [
    "## == TEST CASES for Puzzle 1.1 ==\r\n",
    "# - This read-only cell contains test cases for your previous cell.\r\n",
    "# - If this cell runs with a message (with the emoji showing), you PASSED all test cases!\r\n",
    "# - If this cell results in any errors, check your previous cell, make changes, and RE-RUN your code and then this cell.\r\n",
    "x = university_num_emp + university_mean_sal + university_median_sal + university_std_sal\r\n",
    "y = ((university_mean_sal - university_median_sal) * university_std_sal) / university_num_emp\r\n",
    "\r\n",
    "assert( abs(x - 246964.21165107167) < 1 ), \"It looks like your calculations are off?\"\r\n",
    "assert( abs(y - 221601.415478511) < 1 ), \"It looks like your calculations are off?\"\r\n",
    "\r\n",
    "## == SUCCESS MESSAGE ==\r\n",
    "# You will only see this message (with the emoji showing) if you passed all test cases:\r\n",
    "tada = \"\\N{PARTY POPPER}\"\r\n",
    "print(f\"{tada} All tests passed! {tada}\")"
   ],
   "outputs": [
    {
     "output_type": "stream",
     "name": "stdout",
     "text": [
      "🎉 All tests passed! 🎉\n"
     ]
    }
   ],
   "metadata": {
    "deletable": false,
    "editable": false,
    "nbgrader": {
     "cell_type": "code",
     "checksum": "56f09ea04974ac5c89f390a8825daa39",
     "grade": true,
     "grade_id": "cell-04e624817d681f8e",
     "locked": true,
     "points": 1,
     "schema_version": 3,
     "solution": false,
     "task": false
    }
   }
  },
  {
   "cell_type": "markdown",
   "source": [
    "**❓ Individual Reflection ❓**\n",
    "\n",
    "Write a few sentences answering the following questions: Is the mean or median larger? Why do you think this might be the case? What does the standard deviation tell you in this context?"
   ],
   "metadata": {}
  },
  {
   "cell_type": "markdown",
   "source": [
    "It appears that the mean is larger than the median in this context. I'm reminded of what you talked about in STAT 100 in how the mean being higher than the median means that the distribution is right-skewed (or positive skewed, whichever you like to use). The standard deviation tells us how dispersed the data is in relation to the mean, and it is quite high meaning that the data is a bit more spread out than how it would look if it was lower."
   ],
   "metadata": {}
  },
  {
   "cell_type": "markdown",
   "source": [
    "### Visual Displays of Data -- A Key Part of EDA!\n",
    "\n",
    "Now, we are a bit more familiar with the dataset and some summary statistics. Looking at overall descriptive statistics helps us summarize all of the observations in a column, rather than having to scroll through all of the observations!  However, descriptive statistics alone often don’t tell the whole story.  \n",
    "\n",
    "In lecture, we will see Anscombe’s Quartet (a set of 4 datasets with the exact same descriptive statistics that look completely different when graphed). This shows us that visual displays of data are also a necessary and important part of exploratory data analysis. \n",
    "\n",
    "### Puzzle 1.2: Histograms\n",
    "\n",
    "Let’s start by looking at one of the most simple, yet powerful visual displays of data, a histogram.  Histograms are used to show the overall shape of the data and they allow us to see frequencies.  Create a frequency histogram of the salaries at UIUC.\n"
   ],
   "metadata": {}
  },
  {
   "cell_type": "code",
   "execution_count": 28,
   "source": [
    "# create your histogram here\r\n",
    "df_graybook[\"Salary\"].plot.hist()"
   ],
   "outputs": [
    {
     "output_type": "execute_result",
     "data": {
      "text/plain": [
       "<AxesSubplot:ylabel='Frequency'>"
      ]
     },
     "metadata": {},
     "execution_count": 28
    },
    {
     "output_type": "display_data",
     "data": {
      "image/png": "[encoded data removed]",
      "text/plain": [
       "<Figure size 432x288 with 1 Axes>"
      ]
     },
     "metadata": {
      "needs_background": "light"
     }
    }
   ],
   "metadata": {}
  },
  {
   "cell_type": "markdown",
   "source": [
    "### Puzzle 1.3: Boxplots\n",
    "\n",
    "Next, let’s look at another simple, yet power visualization: a boxplot! Create a boxplot of the overall salary data at UIUC. "
   ],
   "metadata": {}
  },
  {
   "cell_type": "code",
   "execution_count": 29,
   "source": [
    "# create your boxplot here\r\n",
    "df_graybook[\"Salary\"].plot.box()"
   ],
   "outputs": [
    {
     "output_type": "execute_result",
     "data": {
      "text/plain": [
       "<AxesSubplot:>"
      ]
     },
     "metadata": {},
     "execution_count": 29
    },
    {
     "output_type": "display_data",
     "data": {
      "image/png": "[encoded data removed]",
      "text/plain": [
       "<Figure size 432x288 with 1 Axes>"
      ]
     },
     "metadata": {
      "needs_background": "light"
     }
    }
   ],
   "metadata": {}
  },
  {
   "cell_type": "markdown",
   "source": [
    "**❓ Group Discussion ❓**\r\n",
    "\r\n",
    "Discuss with your group whether you think a histogram or a boxplot or both best visualize the salary data.  There is no right answer to this question.  Explain why histograms, boxplots, or both are important and what they can tell us about the data.  \r\n",
    "\r\n",
    "Why is it valuable to look at visual displays of salary data in general (as opposed to just looking at descriptive statistics like the mean and SD)?\r\n",
    "\r\n",
    "I think that histograms are good in providing sufficient display (sometimes easier for me to understand as I get more data as it can get jumbled up) but boxplots can provide additional detail in terms of letting multiple sets of data to be shown :)\r\n",
    "\r\n",
    "I think looking at visualization helps people to understand and it highlights the trends and outliers (sometimes when we look at a list of numbers we don't see all the useful information).\r\n"
   ],
   "metadata": {}
  },
  {
   "cell_type": "markdown",
   "source": [],
   "metadata": {}
  },
  {
   "cell_type": "markdown",
   "source": [
    "## 2. Department-Level Data\n",
    "\n",
    "One of the interesting properties of the salary dataset is that you can see what department each professor is from and look at the same data at a department level.  In other words, you can calculate descriptive statistics and look at visual displays of data for each department.  Let’s explore whether or not there are salary discrepancies among a few departments.\n",
    "\n",
    "### Puzzle 2.1\n",
    "There was a certain function you learned that will help you **group** all of the people in each department so you can find departmental aggregates.  In other words, you want to group by `'Primary Department'`.\n",
    "\n",
    "Next, instead of just grouping by a single aggregate, use **Python list syntax** to aggregate by `count`, `mean`, and `median` to find the mean and median salary, as well as the count for how many people are in each department.  \n",
    "\n",
    "*(You can view technical docs here:\n",
    "https://pandas.pydata.org/pandas-docs/stable/reference/groupby.html)*"
   ],
   "metadata": {}
  },
  {
   "cell_type": "code",
   "execution_count": 34,
   "source": [
    "group = df_graybook.groupby(\"Primary Department\")\r\n",
    "agg_df = group.agg([\"count\", \"mean\", \"median\"]).reset_index()\r\n",
    "\r\n",
    "\r\n",
    "# Here, we only care about two columns so we are selecting those columns to be in our dataset\r\n",
    "agg_df = agg_df[[\"Primary Department\", \"Salary\"]]\r\n",
    "\r\n",
    "# Display 5 random rows to make sure it works:\r\n",
    "agg_df.sample(5)"
   ],
   "outputs": [
    {
     "output_type": "execute_result",
     "data": {
      "text/html": [
       "<div>\n",
       "<style scoped>\n",
       "    .dataframe tbody tr th:only-of-type {\n",
       "        vertical-align: middle;\n",
       "    }\n",
       "\n",
       "    .dataframe tbody tr th {\n",
       "        vertical-align: top;\n",
       "    }\n",
       "\n",
       "    .dataframe thead tr th {\n",
       "        text-align: left;\n",
       "    }\n",
       "</style>\n",
       "<table border=\"1\" class=\"dataframe\">\n",
       "  <thead>\n",
       "    <tr>\n",
       "      <th></th>\n",
       "      <th>Primary Department</th>\n",
       "      <th colspan=\"3\" halign=\"left\">Salary</th>\n",
       "    </tr>\n",
       "    <tr>\n",
       "      <th></th>\n",
       "      <th></th>\n",
       "      <th>count</th>\n",
       "      <th>mean</th>\n",
       "      <th>median</th>\n",
       "    </tr>\n",
       "  </thead>\n",
       "  <tbody>\n",
       "    <tr>\n",
       "      <th>59</th>\n",
       "      <td>Educational Psychology</td>\n",
       "      <td>19</td>\n",
       "      <td>100083.065789</td>\n",
       "      <td>106044.00</td>\n",
       "    </tr>\n",
       "    <tr>\n",
       "      <th>10</th>\n",
       "      <td>Agricultural &amp; Biological Engr</td>\n",
       "      <td>29</td>\n",
       "      <td>95750.896207</td>\n",
       "      <td>91342.33</td>\n",
       "    </tr>\n",
       "    <tr>\n",
       "      <th>121</th>\n",
       "      <td>Russian,E European,Eurasn Ctr</td>\n",
       "      <td>2</td>\n",
       "      <td>50783.500000</td>\n",
       "      <td>50783.50</td>\n",
       "    </tr>\n",
       "    <tr>\n",
       "      <th>66</th>\n",
       "      <td>Entomology</td>\n",
       "      <td>13</td>\n",
       "      <td>132454.106154</td>\n",
       "      <td>96692.75</td>\n",
       "    </tr>\n",
       "    <tr>\n",
       "      <th>49</th>\n",
       "      <td>Ctr S. Asian &amp; MidEast Studies</td>\n",
       "      <td>1</td>\n",
       "      <td>54449.470000</td>\n",
       "      <td>54449.47</td>\n",
       "    </tr>\n",
       "  </tbody>\n",
       "</table>\n",
       "</div>"
      ],
      "text/plain": [
       "                 Primary Department Salary                          \n",
       "                                     count           mean     median\n",
       "59           Educational Psychology     19  100083.065789  106044.00\n",
       "10   Agricultural & Biological Engr     29   95750.896207   91342.33\n",
       "121   Russian,E European,Eurasn Ctr      2   50783.500000   50783.50\n",
       "66                       Entomology     13  132454.106154   96692.75\n",
       "49   Ctr S. Asian & MidEast Studies      1   54449.470000   54449.47"
      ]
     },
     "metadata": {},
     "execution_count": 34
    }
   ],
   "metadata": {
    "deletable": false,
    "nbgrader": {
     "cell_type": "code",
     "checksum": "912abaecdf749394d0921e160cd15746",
     "grade": false,
     "grade_id": "cell-72189b308296916b",
     "locked": false,
     "schema_version": 3,
     "solution": true,
     "task": false
    }
   }
  },
  {
   "cell_type": "code",
   "execution_count": 35,
   "source": [
    "## == TEST CASES for Puzzle 2.1 ==\r\n",
    "# - This read-only cell contains test cases for your previous cell.\r\n",
    "# - If this cell runs with a message (with the emoji showing), you PASSED all test cases!\r\n",
    "# - If this cell results in any errors, check your previous cell, make changes, and RE-RUN your code and then this cell.\r\n",
    "assert( len(agg_df) == 140 ), \"You should have 140 different departments.  Check to make sure you grouped the data?\"\r\n",
    "assert( \"Salary\" in agg_df ), \"You must have a salary output\"\r\n",
    "assert( \"mean\" in agg_df[\"Salary\"] ), \"Make sure you have a mean in your salary\"\r\n",
    "assert( \"count\" in agg_df[\"Salary\"] ), \"Make sure you have a count in your salary\"\r\n",
    "assert( \"median\" in agg_df[\"Salary\"] ), \"Make sure you have a median in your salary\"\r\n",
    "assert( len(agg_df.columns) == 4 ), \"Make sure you have ONLY the salary data and the department\"\r\n",
    "\r\n",
    "## == SUCCESS MESSAGE ==\r\n",
    "# You will only see this message (with the emoji showing) if you passed all test cases:\r\n",
    "tada = \"\\N{PARTY POPPER}\"\r\n",
    "print(f\"{tada} All tests passed! {tada}\")"
   ],
   "outputs": [
    {
     "output_type": "stream",
     "name": "stdout",
     "text": [
      "🎉 All tests passed! 🎉\n"
     ]
    }
   ],
   "metadata": {
    "deletable": false,
    "editable": false,
    "nbgrader": {
     "cell_type": "code",
     "checksum": "0bbf4ebd7bc25281632fc296ffd2b063",
     "grade": true,
     "grade_id": "cell-d4a69c902629304a",
     "locked": true,
     "points": 1,
     "schema_version": 3,
     "solution": false,
     "task": false
    }
   }
  },
  {
   "cell_type": "markdown",
   "source": [
    "### Puzzle 2.2 \n",
    "\n",
    "Let’s look at 3 different departments: The Department of English, The Department of Psychology, and The Department of Electrical & Computer Eng.  Find the mean and median salary for each of these departments.  We'll do the means first!"
   ],
   "metadata": {}
  },
  {
   "cell_type": "code",
   "execution_count": 50,
   "source": [
    "# Find the means\r\n",
    "\r\n",
    "mean_English = agg_df[agg_df[\"Primary Department\"] == \"English\"]\r\n",
    "mean_English = mean_English[\"Salary\"][\"mean\"].values[0]\r\n",
    "print(mean_English)\r\n",
    "\r\n",
    "mean_Psych = agg_df[agg_df[\"Primary Department\"] == \"Psychology\"]\r\n",
    "mean_Psych = mean_Psych[\"Salary\"][\"mean\"].values[0]\r\n",
    "print(mean_Psych)\r\n",
    "\r\n",
    "mean_ECE = agg_df[agg_df[\"Primary Department\"] == \"Electrical & Computer Eng\"]\r\n",
    "mean_ECE = mean_ECE[\"Salary\"][\"mean\"].values[0]\r\n",
    "print(mean_ECE)"
   ],
   "outputs": [
    {
     "output_type": "stream",
     "name": "stdout",
     "text": [
      "96333.85847457628\n",
      "105536.00097222223\n",
      "134629.32555555555\n"
     ]
    }
   ],
   "metadata": {}
  },
  {
   "cell_type": "code",
   "execution_count": 51,
   "source": [
    "## == TEST CASES for Puzzle 2.2 ==\r\n",
    "# - This read-only cell contains test cases for your previous cell.\r\n",
    "# - If this cell runs with a message (with the emoji showing), you PASSED all test cases!\r\n",
    "# - If this cell results in any errors, check your previous cell, make changes, and RE-RUN your code and then this cell.\r\n",
    "x = mean_English + mean_Psych + mean_ECE\r\n",
    "\r\n",
    "assert( x > 336499 ), \"It looks like your calculations are off?\"\r\n",
    "assert( x < 336500 ), \"It looks like your calculations are off?\"\r\n",
    "\r\n",
    "## == SUCCESS MESSAGE ==\r\n",
    "# You will only see this message (with the emoji showing) if you passed all test cases:\r\n",
    "tada = \"\\N{PARTY POPPER}\"\r\n",
    "print(f\"{tada} All tests passed! {tada}\")"
   ],
   "outputs": [
    {
     "output_type": "stream",
     "name": "stdout",
     "text": [
      "🎉 All tests passed! 🎉\n"
     ]
    }
   ],
   "metadata": {}
  },
  {
   "cell_type": "markdown",
   "source": [
    "### Puzzle 2.3 \n",
    "\n",
    "Find the median salaries of the following departments: The Department of English, The Department of Psychology, and The Department of Electrical & Computer Eng.  "
   ],
   "metadata": {}
  },
  {
   "cell_type": "code",
   "execution_count": 53,
   "source": [
    "# Find the medians\r\n",
    "\r\n",
    "median_English = agg_df[agg_df[\"Primary Department\"] == \"English\"]\r\n",
    "median_English = median_English[\"Salary\"][\"median\"].values[0]\r\n",
    "print(median_English)\r\n",
    "\r\n",
    "median_Psych = agg_df[agg_df[\"Primary Department\"] == \"Psychology\"]\r\n",
    "median_Psych = median_Psych[\"Salary\"][\"median\"].values[0]\r\n",
    "print(median_Psych)\r\n",
    "\r\n",
    "median_ECE = agg_df[agg_df[\"Primary Department\"] == \"Electrical & Computer Eng\"]\r\n",
    "median_ECE = median_ECE[\"Salary\"][\"median\"].values[0]\r\n",
    "print(median_ECE)"
   ],
   "outputs": [
    {
     "output_type": "stream",
     "name": "stdout",
     "text": [
      "89514.08\n",
      "88732.625\n",
      "130301.0\n"
     ]
    }
   ],
   "metadata": {}
  },
  {
   "cell_type": "code",
   "execution_count": 54,
   "source": [
    "## == TEST CASES for Puzzle 2.3 ==\r\n",
    "# - This read-only cell contains test cases for your previous cell.\r\n",
    "# - If this cell runs with a message (with the emoji showing), you PASSED all test cases!\r\n",
    "# - If this cell results in any errors, check your previous cell, make changes, and RE-RUN your code and then this cell.\r\n",
    "y = median_English + median_Psych + median_ECE\r\n",
    "\r\n",
    "assert( y > 308547 ), \"It looks like your calculations are off?\"\r\n",
    "assert( y < 308548 ), \"It looks like your calculations are off?\"\r\n",
    "\r\n",
    "## == SUCCESS MESSAGE ==\r\n",
    "# You will only see this message (with the emoji showing) if you passed all test cases:\r\n",
    "tada = \"\\N{PARTY POPPER}\"\r\n",
    "print(f\"{tada} All tests passed! {tada}\")"
   ],
   "outputs": [
    {
     "output_type": "stream",
     "name": "stdout",
     "text": [
      "🎉 All tests passed! 🎉\n"
     ]
    }
   ],
   "metadata": {}
  },
  {
   "cell_type": "markdown",
   "source": [
    "**❓ Individual Reflection❓** \n",
    "\n",
    "Are the means and medians drastically different from each other in each department and between each of the 3 departments? Think about why or why not. Are there any confounding variables that could be driving these differences?  Write a few sentences below.  "
   ],
   "metadata": {}
  },
  {
   "cell_type": "markdown",
   "source": [
    "I think that they aren't drastically different--in fact, I would say that they're about the same.  I would say that the data set has a fairly symmetrical distribution of means and medians for each department (yeah, English and ECE are a bit different, but their means and medians are pretty close) so it is pretty balanced looking this time around."
   ],
   "metadata": {}
  },
  {
   "cell_type": "markdown",
   "source": [
    "### Puzzle 2.4\n",
    "\n",
    "Create a histogram of the salaries in your home department.  In other words, if your major is Statistics, you should have a histogram of all the salaries in the Statistics Department. Also, find the maximum and minimum salary in your home department. If you're undecided, pick a department you are interested in."
   ],
   "metadata": {}
  },
  {
   "cell_type": "code",
   "execution_count": 68,
   "source": [
    "# histogram of your home department\r\n",
    "df_home_dept = df_graybook.loc[df_graybook[\"Primary Department\"] == \"Advertising\"]\r\n",
    "hist = df_home_dept.plot.hist([\"Salary\"])"
   ],
   "outputs": [
    {
     "output_type": "display_data",
     "data": {
      "image/png": "[encoded data removed]",
      "text/plain": [
       "<Figure size 432x288 with 1 Axes>"
      ]
     },
     "metadata": {
      "needs_background": "light"
     }
    }
   ],
   "metadata": {}
  },
  {
   "cell_type": "code",
   "execution_count": 69,
   "source": [
    "#find the max and min salary for your home deparment\r\n",
    "\r\n",
    "max_salary = df_home_dept[\"Salary\"].max()\r\n",
    "print(max_salary)\r\n",
    "\r\n",
    "min_salary = df_home_dept[\"Salary\"].min()\r\n",
    "print(min_salary)"
   ],
   "outputs": [
    {
     "output_type": "stream",
     "name": "stdout",
     "text": [
      "210218.49\n",
      "69258.0\n"
     ]
    }
   ],
   "metadata": {}
  },
  {
   "cell_type": "markdown",
   "source": [
    "**❓ Group Discussion ❓** \r\n",
    "\r\n",
    "Share the results with the people at your table. Do you notice any similarities or differences between departments?\r\n",
    "\r\n",
    "I compared with someone in my group in statistics and ours look pretty different.  He seems to have scattered data throughout the plot but mine is pretty centered when it comes to salary. For example, we have a few around $100,000 a year but he has quite a few that are $150,000 and above and I don't look to. Hope that answers the question adequately because I didn't get long to compare!"
   ],
   "metadata": {}
  },
  {
   "cell_type": "markdown",
   "source": [
    "## 3. Genders and Salaries\n",
    "\n",
    "Data can often reveal systemic problems or discrimination. For example, in many companies, men and women are promoted at different rates.  Let’s look at a subset of the salary dataset to investigate whether or not there is a difference in salaries between faculty who identify as men and women in two departments. We have this data for the STAT and CS departments (Karle and Wade’s home departments) and have compiled it in a dataset called `statcssalaries.csv`. This data is also located in the same directory as this lab!"
   ],
   "metadata": {}
  },
  {
   "cell_type": "code",
   "execution_count": null,
   "source": [
    "df_home_dept = df_graybook.loc[df_graybook[\"Primary Department\"] == \"Advertising\"]\r\n",
    "hist = df_home_dept.plot.hist([\"Salary\"])"
   ],
   "outputs": [],
   "metadata": {}
  },
  {
   "cell_type": "markdown",
   "source": [
    "### Puzzle 3.1\r\n",
    "\r\n",
    "Load the second dataset `statcssalaries.csv` and create two boxplots of the male salaries and female salaries in this dataset.  "
   ],
   "metadata": {}
  },
  {
   "cell_type": "code",
   "execution_count": 90,
   "source": [
    "# load the dataset\r\n",
    "df_statcs_sal = pd.read_csv(\"statcssalaries.csv\")\r\n",
    "\r\n",
    "\r\n",
    "# create the two boxplots\r\n",
    "df_female_sal = df_statcs_sal[df_statcs_sal[\"Gender\"] == \"F\"]\r\n",
    "df_female_boxplot = df_female_sal[\"Salary\"].plot.hist()\r\n"
   ],
   "outputs": [
    {
     "output_type": "display_data",
     "data": {
      "image/png": "[encoded data removed]",
      "text/plain": [
       "<Figure size 432x288 with 1 Axes>"
      ]
     },
     "metadata": {
      "needs_background": "light"
     }
    }
   ],
   "metadata": {
    "deletable": false,
    "nbgrader": {
     "cell_type": "code",
     "checksum": "fbf16695acaebfe92f608b5121644035",
     "grade": false,
     "grade_id": "cell-dca5763613817466",
     "locked": false,
     "schema_version": 3,
     "solution": true,
     "task": false
    }
   }
  },
  {
   "cell_type": "code",
   "execution_count": 89,
   "source": [
    "\r\n",
    "df_male_sal = df_statcs_sal[df_statcs_sal[\"Gender\"] == \"M\"]\r\n",
    "df_male_boxplot = df_male_sal[\"Salary\"].plot.hist()\r\n",
    "\r\n",
    "\r\n",
    "\r\n"
   ],
   "outputs": [
    {
     "output_type": "display_data",
     "data": {
      "image/png": "[encoded data removed]",
      "text/plain": [
       "<Figure size 432x288 with 1 Axes>"
      ]
     },
     "metadata": {
      "needs_background": "light"
     }
    }
   ],
   "metadata": {}
  },
  {
   "cell_type": "markdown",
   "source": [
    "### Puzzle 3.2\r\n",
    "\r\n",
    "Next, calculate the overall mean, median, and SD of the salaries for this data."
   ],
   "metadata": {}
  },
  {
   "cell_type": "code",
   "execution_count": 91,
   "source": [
    "overall_mean = df_statcs_sal[\"Salary\"].mean()\r\n",
    "print(overall_mean)\r\n",
    "\r\n",
    "overall_median = df_statcs_sal[\"Salary\"].median()\r\n",
    "print(overall_median)\r\n",
    "\r\n",
    "overall_SD = df_statcs_sal[\"Salary\"].std()\r\n",
    "print(overall_SD)"
   ],
   "outputs": [
    {
     "output_type": "stream",
     "name": "stdout",
     "text": [
      "121030.3590225564\n",
      "110992.0\n",
      "49959.506198902025\n"
     ]
    }
   ],
   "metadata": {
    "deletable": false,
    "nbgrader": {
     "cell_type": "code",
     "checksum": "2fdb936f99485f2c4244bfd1a6eb4b08",
     "grade": false,
     "grade_id": "cell-8d360389fd08fc8f",
     "locked": false,
     "schema_version": 3,
     "solution": true,
     "task": false
    }
   }
  },
  {
   "cell_type": "code",
   "execution_count": 92,
   "source": [
    "## == TEST CASES for Puzzle 3.2 ==\r\n",
    "# - This read-only cell contains test cases for your previous cell.\r\n",
    "# - If this cell runs with a message (with the emoji showing), you PASSED all test cases!\r\n",
    "# - If this cell results in any errors, check your previous cell, make changes, and RE-RUN your code and then this cell.\r\n",
    "x = overall_median + overall_median + overall_SD\r\n",
    "y = ((overall_mean - overall_median) * overall_SD) / overall_SD\r\n",
    "\r\n",
    "assert( abs(x - 271945.50619890203) > 1 ), \"It looks like your calculations are off?\"\r\n",
    "assert( (y - 10038.359022556397) < 1 ), \"It looks like your calculations are off?\"\r\n",
    "\r\n",
    "## == SUCCESS MESSAGE ==\r\n",
    "# You will only see this message (with the emoji showing) if you passed all test cases:\r\n",
    "tada = \"\\N{PARTY POPPER}\"\r\n",
    "print(f\"{tada} All tests passed! {tada}\")"
   ],
   "outputs": [
    {
     "output_type": "stream",
     "name": "stdout",
     "text": [
      "🎉 All tests passed! 🎉\n"
     ]
    }
   ],
   "metadata": {}
  },
  {
   "cell_type": "markdown",
   "source": [
    "**❓ Group Discussion ❓**\r\n",
    "\r\n",
    "Discuss the results with your group.  Some questions to think about: Do the boxplots look similar or different? Are there any outliers? Do you think these results present a problem?  What are the implications of this analysis for faculty, students, and the university?\r\n",
    "\r\n",
    "They look pretty similar I guess. I think there are more male faculty, and I think they've got a higher median and mean salary than the female faculty."
   ],
   "metadata": {}
  },
  {
   "cell_type": "markdown",
   "source": [
    "**❓ Individual Reflection❓**\n",
    "\n",
    "As a student, do you think these are fair salaries or are they too low or too high?  Why do you think this?  How does this dataset impact you? Write down your thoughts below."
   ],
   "metadata": {}
  },
  {
   "cell_type": "markdown",
   "source": [
    "I think that these are fair salaries.  Of course, there looks to be a lot more frequency on the males than the females, so maybe there's a discrepancy between the genders.  I think this dataset is pretty accurate for Central Illinois and for higher-education."
   ],
   "metadata": {}
  },
  {
   "cell_type": "markdown",
   "source": [
    "## 4. Exploring Your Own Interests\n",
    "\n",
    "At this point of the lab, we have investigated a lot of questions, however, these have been questions that we have told you to answer. As a data scientist, it is important to be able to use the data science skills that you learn in the classroom to answer real questions that you have.  \n",
    "\n",
    "**❓ Individual Reflection ❓**\n",
    "\n",
    "Think about two questions that you have that have not been answered. Record them below.  Then, answer at least one of these questions using Python and either dataset.  "
   ],
   "metadata": {}
  },
  {
   "cell_type": "markdown",
   "source": [
    "Double Click this cell to edit!\r\n",
    "\r\n",
    "Unanswered Question 1: mean of home department salary\r\n",
    "\r\n",
    "Unanswered Question 2: median of home department salary"
   ],
   "metadata": {}
  },
  {
   "cell_type": "code",
   "execution_count": 94,
   "source": [
    "# answer a question that you have using Python in this cell- it can be something simple!\r\n",
    "df_home_dept_mean = df_home_dept[\"Salary\"].mean()\r\n",
    "print(df_home_dept_mean)"
   ],
   "outputs": [
    {
     "output_type": "stream",
     "name": "stdout",
     "text": [
      "101909.56777777777\n"
     ]
    }
   ],
   "metadata": {}
  },
  {
   "cell_type": "markdown",
   "source": [
    "**❓ Group Discussion ❓**\n",
    "\n",
    "Share your question and results with your group. "
   ],
   "metadata": {}
  },
  {
   "cell_type": "markdown",
   "source": [
    "## 5. Counter Data\r\n",
    "\r\n",
    "As a data scientist, it is important to think about the implications of collecting and not collecting certain data.  Data that is not collected in an analysis is called *counter data*.  \r\n",
    "\r\n",
    "Many times, data is collected to make a profit.  Data has even been referred to as “the new oil” because it is oftentimes seen as an uncapped natural resource and if you can figure out how to capture and refine it, it can lead to a massive profit.\r\n",
    "\r\n",
    "**❓ Group Discussion ❓**\r\n",
    "Chat in your groups about the following questions: What is some counter data that you’d like to collect in regard to salaries? Why do you think it’s important to collect this data?  Share your thoughts with your group.  Some examples of questions that would need counter data are listed below:  \r\n",
    "\r\n",
    "- Do smaller colleges pay a lot less than big research universities? \r\n",
    "- How does UIUC compare to other similar schools in terms of what they pay their faculty? \r\n",
    "- Are there salary disparities if we stratify based on ethnicity? \r\n",
    "- How has this data changed over time?\r\n",
    "\r\n",
    "It's super important to gather this information.  In fact, one of my interests was based off one of these questions!  \r\n"
   ],
   "metadata": {}
  },
  {
   "cell_type": "markdown",
   "source": [
    "**❓ Individual Reflection ❓**\r\n",
    "\r\n",
    "Now think about how you would actually go about collecting this data to answer a question that you have.  Respond below with the question you’d want to answer, the counter data you’d want to collect, what resources you’d need to collect it, and if this is realistic. \r\n"
   ],
   "metadata": {}
  },
  {
   "cell_type": "markdown",
   "source": [
    "I would really like to answer the ethnicity and gender discrepancies in salary question! I would want to ask the ethnicity and/or race of the respondent (counter data I'd want to collect) and I'd need the same resources to collect the salary data from before (however, ethnicity might not be public record and salary looks like it is, so that might be more resources I would need).  I think that this is definitely a realistic question to ask (and answer) and there may be information on answering this question at the university already!"
   ],
   "metadata": {}
  },
  {
   "cell_type": "markdown",
   "source": [
    "## 6. Beyond Stat 107\r\n",
    "\r\n",
    "As a Data Scientist, it’s important to think about who data analysis can benefit and who it can harm.  It’s also important to think about why the data is collected and why counter data is not collected.  \r\n",
    "\r\n",
    "**❓ Group Discussion ❓**\r\n",
    "\r\n",
    "Who benefits from collecting this salary data?  Who does this data harm?\r\n",
    "Why do you think this salary data is public? Can you think of any reasons that this could be problematic? \r\n",
    "\r\n",
    "I think everyone benefits from having this salary data because we can all know who's doing what.  Well, that's a simple way of saying that you can make sure you're making equal to your colleagues.  I think that it is possible that it could cause arguments, or there could be an issue with fake reports.  I think I'd like to know more about this."
   ],
   "metadata": {}
  },
  {
   "cell_type": "markdown",
   "source": [
    "**❓ Last Individual Reflection ❓**\n",
    "\n",
    "Let’s think beyond the salary data!  Thinking about the data science skills that you have mastered: experimental design, descriptive statistics, and basic visualization, what is one real world question that you’d like to answer using data?  It can be about anything, a hobby or a specific passion or issue.  You won’t be doing this, but instead thinking about how you’d do this. Write down your thoughts below."
   ],
   "metadata": {}
  },
  {
   "cell_type": "markdown",
   "source": [
    "I actually do a form of advertising research with a professor about how people respond to authority (we have 3 advertisements with different levels of authority selling medications, and then it is followed by a personality test) and what personalities respond more to authority to see how that works in advertising!  I would like to be able to visualize the data in a way that can make sense to the advertising community and be able to answer this question: \"What personalities best respond to authority?\"\r\n",
    "\r\n",
    "In terms of real world questions that I'd like to answer (if the first answer doesn't suffice), I would like to know some of the following: what will the customer's next decision be? as well as others in a similar realm.  I think that data has the means of predicting behavior as well as analyzing and I would like to be a part of that!"
   ],
   "metadata": {}
  },
  {
   "cell_type": "markdown",
   "source": [
    "## POST-LAB SURVEY\n",
    "\n",
    "Remember, we are doing a pre and post lab survey this week! Please complete this survey AFTER you finish the lab to get +2 additional extra credit points! This will also help us make the labs better and should take about 10 minutes :) Click the link below to access the survey.\n",
    "\n",
    "[https://forms.gle/5E33LkR24KgNoo6A8](https://forms.gle/5E33LkR24KgNoo6A8)"
   ],
   "metadata": {}
  },
  {
   "cell_type": "markdown",
   "source": [
    "## Submit Your Work"
   ],
   "metadata": {}
  },
  {
   "cell_type": "markdown",
   "source": [
    "You're almost done -- congratulations! 🎉\n",
    "\n",
    "You need to do two more things:\n",
    "\n",
    "1.  Save your work. To do this, go to File -> Save All\n",
    "\n",
    "2.  After you have saved, exit this notebook and follow the webpage instructions to commit this lab to your Git repository!"
   ],
   "metadata": {}
  }
 ],
 "metadata": {
  "kernelspec": {
   "name": "python3",
   "display_name": "Python 3.7.4 32-bit"
  },
  "language_info": {
   "codemirror_mode": {
    "name": "ipython",
    "version": 3
   },
   "file_extension": ".py",
   "mimetype": "text/x-python",
   "name": "python",
   "nbconvert_exporter": "python",
   "pygments_lexer": "ipython3",
   "version": "3.7.4"
  },
  "interpreter": {
   "hash": "c9924483889bfdf5400afdfc5d935a5c2f3ade9046caa116863369e4ffef1d57"
  }
 },
 "nbformat": 4,
 "nbformat_minor": 2
}